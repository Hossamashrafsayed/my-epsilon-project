{
 "cells": [
  {
   "cell_type": "code",
   "execution_count": null,
   "id": "ccf88299-1a09-47b7-a2ce-afdae39cd9c1",
   "metadata": {},
   "outputs": [],
   "source": [
    "import streamlit as st\n",
    "import pandas as pd\n",
    "import numpy as np\n",
    "import joblib  # لحفظ النموذج وتصديره\n",
    "\n",
    "# تحميل النموذج المدرب\n",
    "model = joblib.load(\"best_model.pkl\")\n",
    "\n",
    "st.title(\"🔮 Profit Prediction App\")\n",
    "\n",
    "# إدخال المستخدم\n",
    "sales = st.number_input(\"Sales\", min_value=0.0)\n",
    "quantity = st.number_input(\"Quantity\", min_value=1)\n",
    "discount = st.slider(\"Discount\", min_value=0.0, max_value=0.9, step=0.05)\n",
    "category = st.selectbox(\"Category\", [\"Furniture\", \"Office Supplies\", \"Technology\"])\n",
    "sub_category = st.selectbox(\"Sub-Category\", [\"Binders\", \"Phones\", \"Chairs\", \"Paper\"])  # مثلاً\n",
    "region = st.selectbox(\"Region\", [\"East\", \"West\", \"South\", \"Central\"])\n",
    "segment = st.selectbox(\"Segment\", [\"Consumer\", \"Corporate\", \"Home Office\"])\n",
    "\n",
    "# تجهيز البيانات\n",
    "input_data = pd.DataFrame({\n",
    "    \"Sales\": [sales],\n",
    "    \"Quantity\": [quantity],\n",
    "    \"Discount\": [discount],\n",
    "    \"Category\": [category],\n",
    "    \"Sub-Category\": [sub_category],\n",
    "    \"Region\": [region],\n",
    "    \"Segment\": [segment]\n",
    "})\n",
    "\n",
    "# التنبؤ\n",
    "if st.button(\"Predict Profit\"):\n",
    "    prediction = model.predict(input_data)[0]\n",
    "    st.success(f\"💰 Expected Profit: {prediction:.2f} USD\")\n"
   ]
  }
 ],
 "metadata": {
  "kernelspec": {
   "display_name": "Python 3 (ipykernel)",
   "language": "python",
   "name": "python3"
  },
  "language_info": {
   "codemirror_mode": {
    "name": "ipython",
    "version": 3
   },
   "file_extension": ".py",
   "mimetype": "text/x-python",
   "name": "python",
   "nbconvert_exporter": "python",
   "pygments_lexer": "ipython3",
   "version": "3.12.7"
  }
 },
 "nbformat": 4,
 "nbformat_minor": 5
}
import pandas as pd
import joblib
from sklearn.model_selection import train_test_split
from sklearn.pipeline import Pipeline
from sklearn.compose import ColumnTransformer
from sklearn.preprocessing import StandardScaler, OneHotEncoder
from sklearn.ensemble import RandomForestRegressor

# تحميل البيانات
df = pd.read_csv("sample.csv", encoding="ISO-8859-1")

# الخصائص
features = ['Sales', 'Quantity', 'Discount', 'Category', 'Sub-Category', 'Region', 'Segment']
target = 'Profit'

X = df[features]
y = df[target]

# تقسيم البيانات
X_train, X_test, y_train, y_test = train_test_split(X, y, test_size=0.2, random_state=42)

# المعالجة
numeric_features = ['Sales', 'Quantity', 'Discount']
categorical_features = ['Category', 'Sub-Category', 'Region', 'Segment']

preprocessor = ColumnTransformer([
    ('num', StandardScaler(), numeric_features),
    ('cat', OneHotEncoder(handle_unknown='ignore'), categorical_features)
])

# النموذج داخل pipeline
pipeline = Pipeline([
    ('preprocessor', preprocessor),
    ('regressor', RandomForestRegressor(n_estimators=100, random_state=42))
])

# تدريب النموذج
pipeline.fit(X_train, y_train)

# حفظ النموذج
joblib.dump(pipeline, "best_model.pkl")  # ← هذا ما ينشئ الملف المطلوب
